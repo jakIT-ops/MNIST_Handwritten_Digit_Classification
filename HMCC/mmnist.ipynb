{
 "cells": [
  {
   "cell_type": "code",
   "execution_count": 1,
   "id": "573c394c",
   "metadata": {
    "_cell_guid": "b1076dfc-b9ad-4769-8c92-a6c4dae69d19",
    "_uuid": "8f2839f25d086af736a60e9eeb907d3b93b6e0e5",
    "execution": {
     "iopub.execute_input": "2022-10-14T14:24:01.194509Z",
     "iopub.status.busy": "2022-10-14T14:24:01.193784Z",
     "iopub.status.idle": "2022-10-14T14:24:01.212719Z",
     "shell.execute_reply": "2022-10-14T14:24:01.211640Z"
    },
    "papermill": {
     "duration": 0.031988,
     "end_time": "2022-10-14T14:24:01.215345",
     "exception": false,
     "start_time": "2022-10-14T14:24:01.183357",
     "status": "completed"
    },
    "tags": []
   },
   "outputs": [
    {
     "name": "stdout",
     "output_type": "stream",
     "text": [
      "/kaggle/input/handwritten-mongolian-cyrillic-characters-database/HMCC letters merged.csv\n",
      "/kaggle/input/handwritten-mongolian-cyrillic-characters-database/HMCC similar merged.csv\n",
      "/kaggle/input/handwritten-mongolian-cyrillic-characters-database/HMCC balanced.csv\n",
      "/kaggle/input/handwritten-mongolian-cyrillic-characters-database/HMCC all.csv\n"
     ]
    }
   ],
   "source": [
    "# This Python 3 environment comes with many helpful analytics libraries installed\n",
    "# It is defined by the kaggle/python Docker image: https://github.com/kaggle/docker-python\n",
    "# For example, here's several helpful packages to load\n",
    "\n",
    "import numpy as np # linear algebra\n",
    "import pandas as pd # data processing, CSV file I/O (e.g. pd.read_csv)\n",
    "\n",
    "# Input data files are available in the read-only \"../input/\" directory\n",
    "# For example, running this (by clicking run or pressing Shift+Enter) will list all files under the input directory\n",
    "\n",
    "import os\n",
    "for dirname, _, filenames in os.walk('/kaggle/input'):\n",
    "    for filename in filenames:\n",
    "        print(os.path.join(dirname, filename))\n",
    "\n",
    "# You can write up to 20GB to the current directory (/kaggle/working/) that gets preserved as output when you create a version using \"Save & Run All\" \n",
    "# You can also write temporary files to /kaggle/temp/, but they won't be saved outside of the current session"
   ]
  },
  {
   "cell_type": "code",
   "execution_count": 2,
   "id": "6c20b32e",
   "metadata": {
    "execution": {
     "iopub.execute_input": "2022-10-14T14:24:01.226869Z",
     "iopub.status.busy": "2022-10-14T14:24:01.226139Z",
     "iopub.status.idle": "2022-10-14T14:24:21.498758Z",
     "shell.execute_reply": "2022-10-14T14:24:21.497564Z"
    },
    "papermill": {
     "duration": 20.281059,
     "end_time": "2022-10-14T14:24:21.501544",
     "exception": false,
     "start_time": "2022-10-14T14:24:01.220485",
     "status": "completed"
    },
    "tags": []
   },
   "outputs": [],
   "source": [
    "data = pd.read_csv('/kaggle/input/handwritten-mongolian-cyrillic-characters-database/HMCC similar merged.csv')"
   ]
  },
  {
   "cell_type": "code",
   "execution_count": 3,
   "id": "dd01c192",
   "metadata": {
    "execution": {
     "iopub.execute_input": "2022-10-14T14:24:21.512951Z",
     "iopub.status.busy": "2022-10-14T14:24:21.512610Z",
     "iopub.status.idle": "2022-10-14T14:24:21.535164Z",
     "shell.execute_reply": "2022-10-14T14:24:21.534144Z"
    },
    "papermill": {
     "duration": 0.030919,
     "end_time": "2022-10-14T14:24:21.537744",
     "exception": false,
     "start_time": "2022-10-14T14:24:21.506825",
     "status": "completed"
    },
    "tags": []
   },
   "outputs": [
    {
     "data": {
      "text/html": [
       "<div>\n",
       "<style scoped>\n",
       "    .dataframe tbody tr th:only-of-type {\n",
       "        vertical-align: middle;\n",
       "    }\n",
       "\n",
       "    .dataframe tbody tr th {\n",
       "        vertical-align: top;\n",
       "    }\n",
       "\n",
       "    .dataframe thead th {\n",
       "        text-align: right;\n",
       "    }\n",
       "</style>\n",
       "<table border=\"1\" class=\"dataframe\">\n",
       "  <thead>\n",
       "    <tr style=\"text-align: right;\">\n",
       "      <th></th>\n",
       "      <th>40</th>\n",
       "      <th>0</th>\n",
       "      <th>0.1</th>\n",
       "      <th>0.2</th>\n",
       "      <th>0.3</th>\n",
       "      <th>0.4</th>\n",
       "      <th>0.5</th>\n",
       "      <th>0.6</th>\n",
       "      <th>0.7</th>\n",
       "      <th>0.8</th>\n",
       "      <th>...</th>\n",
       "      <th>0.609</th>\n",
       "      <th>0.610</th>\n",
       "      <th>0.611</th>\n",
       "      <th>0.612</th>\n",
       "      <th>0.613</th>\n",
       "      <th>0.614</th>\n",
       "      <th>0.615</th>\n",
       "      <th>0.616</th>\n",
       "      <th>0.617</th>\n",
       "      <th>0.618</th>\n",
       "    </tr>\n",
       "  </thead>\n",
       "  <tbody>\n",
       "    <tr>\n",
       "      <th>0</th>\n",
       "      <td>16</td>\n",
       "      <td>0</td>\n",
       "      <td>0</td>\n",
       "      <td>0</td>\n",
       "      <td>0</td>\n",
       "      <td>0</td>\n",
       "      <td>0</td>\n",
       "      <td>0</td>\n",
       "      <td>0</td>\n",
       "      <td>0</td>\n",
       "      <td>...</td>\n",
       "      <td>0</td>\n",
       "      <td>0</td>\n",
       "      <td>0</td>\n",
       "      <td>0</td>\n",
       "      <td>0</td>\n",
       "      <td>0</td>\n",
       "      <td>0</td>\n",
       "      <td>0</td>\n",
       "      <td>0</td>\n",
       "      <td>0</td>\n",
       "    </tr>\n",
       "    <tr>\n",
       "      <th>1</th>\n",
       "      <td>39</td>\n",
       "      <td>0</td>\n",
       "      <td>0</td>\n",
       "      <td>0</td>\n",
       "      <td>0</td>\n",
       "      <td>0</td>\n",
       "      <td>0</td>\n",
       "      <td>0</td>\n",
       "      <td>0</td>\n",
       "      <td>0</td>\n",
       "      <td>...</td>\n",
       "      <td>0</td>\n",
       "      <td>0</td>\n",
       "      <td>0</td>\n",
       "      <td>0</td>\n",
       "      <td>0</td>\n",
       "      <td>0</td>\n",
       "      <td>0</td>\n",
       "      <td>0</td>\n",
       "      <td>0</td>\n",
       "      <td>0</td>\n",
       "    </tr>\n",
       "    <tr>\n",
       "      <th>2</th>\n",
       "      <td>12</td>\n",
       "      <td>0</td>\n",
       "      <td>0</td>\n",
       "      <td>0</td>\n",
       "      <td>0</td>\n",
       "      <td>0</td>\n",
       "      <td>0</td>\n",
       "      <td>0</td>\n",
       "      <td>0</td>\n",
       "      <td>0</td>\n",
       "      <td>...</td>\n",
       "      <td>0</td>\n",
       "      <td>0</td>\n",
       "      <td>0</td>\n",
       "      <td>0</td>\n",
       "      <td>0</td>\n",
       "      <td>0</td>\n",
       "      <td>0</td>\n",
       "      <td>0</td>\n",
       "      <td>0</td>\n",
       "      <td>0</td>\n",
       "    </tr>\n",
       "    <tr>\n",
       "      <th>3</th>\n",
       "      <td>26</td>\n",
       "      <td>0</td>\n",
       "      <td>0</td>\n",
       "      <td>0</td>\n",
       "      <td>0</td>\n",
       "      <td>0</td>\n",
       "      <td>0</td>\n",
       "      <td>0</td>\n",
       "      <td>0</td>\n",
       "      <td>0</td>\n",
       "      <td>...</td>\n",
       "      <td>0</td>\n",
       "      <td>0</td>\n",
       "      <td>0</td>\n",
       "      <td>0</td>\n",
       "      <td>0</td>\n",
       "      <td>0</td>\n",
       "      <td>0</td>\n",
       "      <td>0</td>\n",
       "      <td>0</td>\n",
       "      <td>0</td>\n",
       "    </tr>\n",
       "    <tr>\n",
       "      <th>4</th>\n",
       "      <td>7</td>\n",
       "      <td>0</td>\n",
       "      <td>0</td>\n",
       "      <td>0</td>\n",
       "      <td>0</td>\n",
       "      <td>0</td>\n",
       "      <td>0</td>\n",
       "      <td>0</td>\n",
       "      <td>0</td>\n",
       "      <td>0</td>\n",
       "      <td>...</td>\n",
       "      <td>0</td>\n",
       "      <td>0</td>\n",
       "      <td>0</td>\n",
       "      <td>0</td>\n",
       "      <td>0</td>\n",
       "      <td>0</td>\n",
       "      <td>0</td>\n",
       "      <td>0</td>\n",
       "      <td>0</td>\n",
       "      <td>0</td>\n",
       "    </tr>\n",
       "  </tbody>\n",
       "</table>\n",
       "<p>5 rows × 785 columns</p>\n",
       "</div>"
      ],
      "text/plain": [
       "   40  0  0.1  0.2  0.3  0.4  0.5  0.6  0.7  0.8  ...  0.609  0.610  0.611  \\\n",
       "0  16  0    0    0    0    0    0    0    0    0  ...      0      0      0   \n",
       "1  39  0    0    0    0    0    0    0    0    0  ...      0      0      0   \n",
       "2  12  0    0    0    0    0    0    0    0    0  ...      0      0      0   \n",
       "3  26  0    0    0    0    0    0    0    0    0  ...      0      0      0   \n",
       "4   7  0    0    0    0    0    0    0    0    0  ...      0      0      0   \n",
       "\n",
       "   0.612  0.613  0.614  0.615  0.616  0.617  0.618  \n",
       "0      0      0      0      0      0      0      0  \n",
       "1      0      0      0      0      0      0      0  \n",
       "2      0      0      0      0      0      0      0  \n",
       "3      0      0      0      0      0      0      0  \n",
       "4      0      0      0      0      0      0      0  \n",
       "\n",
       "[5 rows x 785 columns]"
      ]
     },
     "execution_count": 3,
     "metadata": {},
     "output_type": "execute_result"
    }
   ],
   "source": [
    "data.head()"
   ]
  },
  {
   "cell_type": "code",
   "execution_count": 4,
   "id": "b479ddf5",
   "metadata": {
    "execution": {
     "iopub.execute_input": "2022-10-14T14:24:21.549513Z",
     "iopub.status.busy": "2022-10-14T14:24:21.549245Z",
     "iopub.status.idle": "2022-10-14T14:24:21.554606Z",
     "shell.execute_reply": "2022-10-14T14:24:21.553809Z"
    },
    "papermill": {
     "duration": 0.013375,
     "end_time": "2022-10-14T14:24:21.556504",
     "exception": false,
     "start_time": "2022-10-14T14:24:21.543129",
     "status": "completed"
    },
    "tags": []
   },
   "outputs": [],
   "source": [
    "data = data.to_numpy()"
   ]
  },
  {
   "cell_type": "code",
   "execution_count": 5,
   "id": "15de2ef6",
   "metadata": {
    "execution": {
     "iopub.execute_input": "2022-10-14T14:24:21.569133Z",
     "iopub.status.busy": "2022-10-14T14:24:21.567738Z",
     "iopub.status.idle": "2022-10-14T14:24:21.572523Z",
     "shell.execute_reply": "2022-10-14T14:24:21.571629Z"
    },
    "papermill": {
     "duration": 0.012952,
     "end_time": "2022-10-14T14:24:21.574563",
     "exception": false,
     "start_time": "2022-10-14T14:24:21.561611",
     "status": "completed"
    },
    "tags": []
   },
   "outputs": [],
   "source": [
    "x,y = data[:,1:], data[:,0]"
   ]
  },
  {
   "cell_type": "code",
   "execution_count": 6,
   "id": "20f4b040",
   "metadata": {
    "execution": {
     "iopub.execute_input": "2022-10-14T14:24:21.587290Z",
     "iopub.status.busy": "2022-10-14T14:24:21.585869Z",
     "iopub.status.idle": "2022-10-14T14:24:21.592068Z",
     "shell.execute_reply": "2022-10-14T14:24:21.590793Z"
    },
    "papermill": {
     "duration": 0.015067,
     "end_time": "2022-10-14T14:24:21.594669",
     "exception": false,
     "start_time": "2022-10-14T14:24:21.579602",
     "status": "completed"
    },
    "tags": []
   },
   "outputs": [
    {
     "name": "stdout",
     "output_type": "stream",
     "text": [
      "[[0 0 0 ... 0 0 0]\n",
      " [0 0 0 ... 0 0 0]\n",
      " [0 0 0 ... 0 0 0]\n",
      " ...\n",
      " [0 0 0 ... 0 0 0]\n",
      " [0 0 0 ... 0 0 0]\n",
      " [0 0 0 ... 0 0 0]] [16 39 12 26  7 43 18 26  3 40]\n"
     ]
    }
   ],
   "source": [
    "print(x[:10], y[:10])"
   ]
  },
  {
   "cell_type": "code",
   "execution_count": 7,
   "id": "99f166de",
   "metadata": {
    "execution": {
     "iopub.execute_input": "2022-10-14T14:24:21.607770Z",
     "iopub.status.busy": "2022-10-14T14:24:21.606914Z",
     "iopub.status.idle": "2022-10-14T14:24:21.612886Z",
     "shell.execute_reply": "2022-10-14T14:24:21.611588Z"
    },
    "papermill": {
     "duration": 0.014266,
     "end_time": "2022-10-14T14:24:21.614908",
     "exception": false,
     "start_time": "2022-10-14T14:24:21.600642",
     "status": "completed"
    },
    "tags": []
   },
   "outputs": [
    {
     "name": "stdout",
     "output_type": "stream",
     "text": [
      "(257249, 784) (257249,)\n"
     ]
    }
   ],
   "source": [
    "print(x.shape, y.shape)"
   ]
  },
  {
   "cell_type": "code",
   "execution_count": 8,
   "id": "fd6751f3",
   "metadata": {
    "execution": {
     "iopub.execute_input": "2022-10-14T14:24:21.626789Z",
     "iopub.status.busy": "2022-10-14T14:24:21.626320Z",
     "iopub.status.idle": "2022-10-14T14:24:21.630552Z",
     "shell.execute_reply": "2022-10-14T14:24:21.629608Z"
    },
    "papermill": {
     "duration": 0.012518,
     "end_time": "2022-10-14T14:24:21.632614",
     "exception": false,
     "start_time": "2022-10-14T14:24:21.620096",
     "status": "completed"
    },
    "tags": []
   },
   "outputs": [],
   "source": [
    "image = x[0].reshape(28,28)"
   ]
  },
  {
   "cell_type": "code",
   "execution_count": 9,
   "id": "b2433212",
   "metadata": {
    "execution": {
     "iopub.execute_input": "2022-10-14T14:24:21.645521Z",
     "iopub.status.busy": "2022-10-14T14:24:21.644079Z",
     "iopub.status.idle": "2022-10-14T14:24:21.650795Z",
     "shell.execute_reply": "2022-10-14T14:24:21.649504Z"
    },
    "papermill": {
     "duration": 0.015125,
     "end_time": "2022-10-14T14:24:21.653030",
     "exception": false,
     "start_time": "2022-10-14T14:24:21.637905",
     "status": "completed"
    },
    "tags": []
   },
   "outputs": [
    {
     "name": "stdout",
     "output_type": "stream",
     "text": [
      "48\n"
     ]
    }
   ],
   "source": [
    "print(y.max())"
   ]
  },
  {
   "cell_type": "code",
   "execution_count": 10,
   "id": "bb2d5622",
   "metadata": {
    "execution": {
     "iopub.execute_input": "2022-10-14T14:24:21.665871Z",
     "iopub.status.busy": "2022-10-14T14:24:21.665044Z",
     "iopub.status.idle": "2022-10-14T14:24:21.669704Z",
     "shell.execute_reply": "2022-10-14T14:24:21.668898Z"
    },
    "papermill": {
     "duration": 0.013164,
     "end_time": "2022-10-14T14:24:21.671738",
     "exception": false,
     "start_time": "2022-10-14T14:24:21.658574",
     "status": "completed"
    },
    "tags": []
   },
   "outputs": [],
   "source": [
    "import matplotlib.pyplot as plt"
   ]
  },
  {
   "cell_type": "code",
   "execution_count": 11,
   "id": "a4ad359a",
   "metadata": {
    "execution": {
     "iopub.execute_input": "2022-10-14T14:24:21.684440Z",
     "iopub.status.busy": "2022-10-14T14:24:21.683577Z",
     "iopub.status.idle": "2022-10-14T14:24:21.887338Z",
     "shell.execute_reply": "2022-10-14T14:24:21.886337Z"
    },
    "papermill": {
     "duration": 0.212089,
     "end_time": "2022-10-14T14:24:21.889310",
     "exception": false,
     "start_time": "2022-10-14T14:24:21.677221",
     "status": "completed"
    },
    "tags": []
   },
   "outputs": [
    {
     "data": {
      "image/png": "[encoded data removed]",
      "text/plain": [
       "<Figure size 432x288 with 1 Axes>"
      ]
     },
     "metadata": {
      "needs_background": "light"
     },
     "output_type": "display_data"
    }
   ],
   "source": [
    "plt.imshow(image)\n",
    "plt.show()"
   ]
  },
  {
   "cell_type": "code",
   "execution_count": 12,
   "id": "845e3907",
   "metadata": {
    "execution": {
     "iopub.execute_input": "2022-10-14T14:24:21.904319Z",
     "iopub.status.busy": "2022-10-14T14:24:21.902743Z",
     "iopub.status.idle": "2022-10-14T14:24:22.719709Z",
     "shell.execute_reply": "2022-10-14T14:24:22.718480Z"
    },
    "papermill": {
     "duration": 0.826756,
     "end_time": "2022-10-14T14:24:22.722975",
     "exception": false,
     "start_time": "2022-10-14T14:24:21.896219",
     "status": "completed"
    },
    "tags": []
   },
   "outputs": [
    {
     "name": "stdout",
     "output_type": "stream",
     "text": [
      "(257249, 1, 28, 28)\n"
     ]
    }
   ],
   "source": [
    "x = x.reshape((-1,1,28,28))/x.max()\n",
    "print(x.shape)"
   ]
  },
  {
   "cell_type": "code",
   "execution_count": 13,
   "id": "a6adcc3b",
   "metadata": {
    "execution": {
     "iopub.execute_input": "2022-10-14T14:24:22.736334Z",
     "iopub.status.busy": "2022-10-14T14:24:22.736039Z",
     "iopub.status.idle": "2022-10-14T14:24:24.340153Z",
     "shell.execute_reply": "2022-10-14T14:24:24.339164Z"
    },
    "papermill": {
     "duration": 1.613894,
     "end_time": "2022-10-14T14:24:24.343194",
     "exception": false,
     "start_time": "2022-10-14T14:24:22.729300",
     "status": "completed"
    },
    "tags": []
   },
   "outputs": [],
   "source": [
    "from torch.utils.data import Dataset, DataLoader\n",
    "class mmnist(Dataset):\n",
    "    def __init__(self, x, y, transform=None):\n",
    "        self.x = x\n",
    "        self.y = y\n",
    "        self.transform = transform\n",
    "    def __len__(self):\n",
    "        return len(self.x)\n",
    "    def __getitem__(self, idx):\n",
    "        return self.x[idx], self.y[idx]"
   ]
  },
  {
   "cell_type": "code",
   "execution_count": 14,
   "id": "d8cac227",
   "metadata": {
    "execution": {
     "iopub.execute_input": "2022-10-14T14:24:24.356213Z",
     "iopub.status.busy": "2022-10-14T14:24:24.355737Z",
     "iopub.status.idle": "2022-10-14T14:24:24.361175Z",
     "shell.execute_reply": "2022-10-14T14:24:24.360064Z"
    },
    "papermill": {
     "duration": 0.014619,
     "end_time": "2022-10-14T14:24:24.363588",
     "exception": false,
     "start_time": "2022-10-14T14:24:24.348969",
     "status": "completed"
    },
    "tags": []
   },
   "outputs": [],
   "source": [
    "X_train, y_train = x[:int(len(x)*0.7)], y[:int(len(y)*0.7)]\n",
    "X_test, y_test = x[int(len(x)*0.7):], y[int(len(y)*0.7):]"
   ]
  },
  {
   "cell_type": "code",
   "execution_count": 15,
   "id": "fcec7c63",
   "metadata": {
    "execution": {
     "iopub.execute_input": "2022-10-14T14:24:24.376495Z",
     "iopub.status.busy": "2022-10-14T14:24:24.375726Z",
     "iopub.status.idle": "2022-10-14T14:24:24.381728Z",
     "shell.execute_reply": "2022-10-14T14:24:24.380395Z"
    },
    "papermill": {
     "duration": 0.014381,
     "end_time": "2022-10-14T14:24:24.383764",
     "exception": false,
     "start_time": "2022-10-14T14:24:24.369383",
     "status": "completed"
    },
    "tags": []
   },
   "outputs": [
    {
     "name": "stdout",
     "output_type": "stream",
     "text": [
      "(180074, 1, 28, 28) (180074,) (77175, 1, 28, 28) (77175,)\n"
     ]
    }
   ],
   "source": [
    "print(X_train.shape, y_train.shape, X_test.shape, y_test.shape)"
   ]
  },
  {
   "cell_type": "code",
   "execution_count": 16,
   "id": "8ade09b2",
   "metadata": {
    "execution": {
     "iopub.execute_input": "2022-10-14T14:24:24.396213Z",
     "iopub.status.busy": "2022-10-14T14:24:24.395347Z",
     "iopub.status.idle": "2022-10-14T14:24:24.402996Z",
     "shell.execute_reply": "2022-10-14T14:24:24.401942Z"
    },
    "papermill": {
     "duration": 0.016865,
     "end_time": "2022-10-14T14:24:24.405950",
     "exception": false,
     "start_time": "2022-10-14T14:24:24.389085",
     "status": "completed"
    },
    "tags": []
   },
   "outputs": [
    {
     "name": "stdout",
     "output_type": "stream",
     "text": [
      "[[0.         0.         0.         0.         0.         0.\n",
      "  0.         0.         0.         0.         0.         0.\n",
      "  0.         0.         0.         0.         0.         0.\n",
      "  0.         0.         0.         0.         0.         0.\n",
      "  0.         0.         0.         0.        ]\n",
      " [0.         0.         0.         0.         0.         0.\n",
      "  0.         0.         0.         0.         0.         0.\n",
      "  0.         0.         0.         0.         0.         0.\n",
      "  0.         0.         0.         0.27843137 0.16862745 0.\n",
      "  0.         0.         0.         0.        ]\n",
      " [0.         0.         0.         0.         0.         0.\n",
      "  0.         0.         0.         0.         0.         0.\n",
      "  0.         0.         0.         0.         0.         0.\n",
      "  0.25098039 0.29803922 0.66666667 0.96078431 0.36078431 0.\n",
      "  0.         0.         0.         0.        ]\n",
      " [0.         0.         0.         0.         0.         0.\n",
      "  0.         0.         0.         0.         0.         0.\n",
      "  0.         0.         0.         0.         0.23529412 0.64313725\n",
      "  0.84313725 0.81568627 1.         1.         0.42352941 0.\n",
      "  0.         0.         0.         0.        ]\n",
      " [0.         0.         0.         0.         0.         0.\n",
      "  0.         0.         0.         0.         0.         0.\n",
      "  0.         0.         0.         0.22352941 0.81960784 1.\n",
      "  0.78431373 0.57254902 0.94901961 1.         0.33333333 0.\n",
      "  0.         0.         0.         0.        ]\n",
      " [0.         0.         0.         0.         0.         0.\n",
      "  0.         0.         0.         0.         0.         0.\n",
      "  0.         0.         0.11372549 0.65490196 1.         0.62745098\n",
      "  0.3254902  0.52156863 1.         0.6        0.09019608 0.\n",
      "  0.         0.         0.         0.        ]\n",
      " [0.         0.         0.         0.         0.         0.\n",
      "  0.         0.         0.         0.         0.         0.\n",
      "  0.         0.         0.22745098 0.73333333 0.68235294 0.16078431\n",
      "  0.46666667 1.         0.75686275 0.11372549 0.         0.\n",
      "  0.         0.         0.         0.        ]\n",
      " [0.         0.         0.         0.         0.         0.\n",
      "  0.         0.         0.         0.         0.         0.\n",
      "  0.         0.         0.07058824 0.23529412 0.34901961 0.58431373\n",
      "  1.         0.85098039 0.06666667 0.         0.         0.\n",
      "  0.         0.         0.         0.        ]\n",
      " [0.         0.         0.         0.         0.         0.\n",
      "  0.         0.         0.         0.         0.         0.\n",
      "  0.         0.         0.         0.         0.39607843 1.\n",
      "  1.         0.68235294 0.09803922 0.         0.         0.\n",
      "  0.         0.         0.         0.        ]\n",
      " [0.         0.         0.         0.         0.         0.\n",
      "  0.         0.         0.         0.         0.         0.\n",
      "  0.         0.         0.         0.16862745 0.70196078 1.\n",
      "  1.         0.89411765 0.14509804 0.         0.         0.\n",
      "  0.         0.         0.         0.        ]]\n"
     ]
    }
   ],
   "source": [
    "print(X_train[0][0][:10][:10])"
   ]
  },
  {
   "cell_type": "code",
   "execution_count": 17,
   "id": "82dc30cf",
   "metadata": {
    "execution": {
     "iopub.execute_input": "2022-10-14T14:24:24.418791Z",
     "iopub.status.busy": "2022-10-14T14:24:24.418003Z",
     "iopub.status.idle": "2022-10-14T14:24:24.422956Z",
     "shell.execute_reply": "2022-10-14T14:24:24.422057Z"
    },
    "papermill": {
     "duration": 0.013481,
     "end_time": "2022-10-14T14:24:24.425052",
     "exception": false,
     "start_time": "2022-10-14T14:24:24.411571",
     "status": "completed"
    },
    "tags": []
   },
   "outputs": [],
   "source": [
    "train_set = mmnist(X_train, y_train)\n",
    "test_set =mmnist(X_test, y_test)"
   ]
  },
  {
   "cell_type": "code",
   "execution_count": 18,
   "id": "33d16477",
   "metadata": {
    "execution": {
     "iopub.execute_input": "2022-10-14T14:24:24.437730Z",
     "iopub.status.busy": "2022-10-14T14:24:24.436951Z",
     "iopub.status.idle": "2022-10-14T14:24:24.441988Z",
     "shell.execute_reply": "2022-10-14T14:24:24.441094Z"
    },
    "papermill": {
     "duration": 0.013214,
     "end_time": "2022-10-14T14:24:24.443934",
     "exception": false,
     "start_time": "2022-10-14T14:24:24.430720",
     "status": "completed"
    },
    "tags": []
   },
   "outputs": [],
   "source": [
    "train_loader = DataLoader(train_set, batch_size=64, shuffle=True)\n",
    "test_loader = DataLoader(test_set, batch_size=64, shuffle=False)"
   ]
  },
  {
   "cell_type": "code",
   "execution_count": 19,
   "id": "5c4c0086",
   "metadata": {
    "execution": {
     "iopub.execute_input": "2022-10-14T14:24:24.456797Z",
     "iopub.status.busy": "2022-10-14T14:24:24.456203Z",
     "iopub.status.idle": "2022-10-14T14:24:24.480737Z",
     "shell.execute_reply": "2022-10-14T14:24:24.479794Z"
    },
    "papermill": {
     "duration": 0.032776,
     "end_time": "2022-10-14T14:24:24.482705",
     "exception": false,
     "start_time": "2022-10-14T14:24:24.449929",
     "status": "completed"
    },
    "tags": []
   },
   "outputs": [
    {
     "name": "stdout",
     "output_type": "stream",
     "text": [
      "torch.Size([64, 1, 28, 28]) torch.Size([64])\n"
     ]
    }
   ],
   "source": [
    "for x, y in train_loader:\n",
    "    print(x.shape, y.shape)\n",
    "    break"
   ]
  },
  {
   "cell_type": "code",
   "execution_count": 20,
   "id": "eb8d4304",
   "metadata": {
    "execution": {
     "iopub.execute_input": "2022-10-14T14:24:24.495168Z",
     "iopub.status.busy": "2022-10-14T14:24:24.494344Z",
     "iopub.status.idle": "2022-10-14T14:24:24.696502Z",
     "shell.execute_reply": "2022-10-14T14:24:24.695601Z"
    },
    "papermill": {
     "duration": 0.210586,
     "end_time": "2022-10-14T14:24:24.698741",
     "exception": false,
     "start_time": "2022-10-14T14:24:24.488155",
     "status": "completed"
    },
    "tags": []
   },
   "outputs": [],
   "source": [
    "import time\n",
    "import torch\n",
    "import torch.nn as nn\n",
    "from matplotlib import pyplot as plt\n",
    "import torchvision.models as models\n",
    "import torch.optim as optim"
   ]
  },
  {
   "cell_type": "code",
   "execution_count": 21,
   "id": "b2780ee3",
   "metadata": {
    "execution": {
     "iopub.execute_input": "2022-10-14T14:24:24.711441Z",
     "iopub.status.busy": "2022-10-14T14:24:24.711171Z",
     "iopub.status.idle": "2022-10-14T14:24:27.457522Z",
     "shell.execute_reply": "2022-10-14T14:24:27.456364Z"
    },
    "papermill": {
     "duration": 2.75558,
     "end_time": "2022-10-14T14:24:27.460087",
     "exception": false,
     "start_time": "2022-10-14T14:24:24.704507",
     "status": "completed"
    },
    "tags": []
   },
   "outputs": [
    {
     "name": "stderr",
     "output_type": "stream",
     "text": [
      "Downloading: \"https://download.pytorch.org/models/resnet18-f37072fd.pth\" to /root/.cache/torch/hub/checkpoints/resnet18-f37072fd.pth\n"
     ]
    },
    {
     "data": {
      "application/vnd.jupyter.widget-view+json": {
       "model_id": "651f152a6b944aa2af1822bf1c2a3ff4",
       "version_major": 2,
       "version_minor": 0
      },
      "text/plain": [
       "  0%|          | 0.00/44.7M [00:00<?, ?B/s]"
      ]
     },
     "metadata": {},
     "output_type": "display_data"
    }
   ],
   "source": [
    "resnet18 = models.resnet18(pretrained=True)\n",
    "resnet18.conv1 = nn.Conv2d(1, 64, kernel_size=(7, 7), stride=(2, 2), padding=(3, 3), bias=False)\n",
    "resnet18.fc = nn.Linear(resnet18.fc.in_features,y.max()+1)"
   ]
  },
  {
   "cell_type": "code",
   "execution_count": 22,
   "id": "fce7c74f",
   "metadata": {
    "execution": {
     "iopub.execute_input": "2022-10-14T14:24:27.474193Z",
     "iopub.status.busy": "2022-10-14T14:24:27.473514Z",
     "iopub.status.idle": "2022-10-14T14:24:27.488070Z",
     "shell.execute_reply": "2022-10-14T14:24:27.487127Z"
    },
    "papermill": {
     "duration": 0.023705,
     "end_time": "2022-10-14T14:24:27.490084",
     "exception": false,
     "start_time": "2022-10-14T14:24:27.466379",
     "status": "completed"
    },
    "tags": []
   },
   "outputs": [],
   "source": [
    "def train_model(model, train_loader, test_loader, criterion, optimizer, device, scheduler, num_epochs=25, is_train=True, NN=False):\n",
    "    since = time.time()\n",
    "    acc_history = []\n",
    "    loss_history = []\n",
    "    best_acc = 0.0\n",
    "    model.to(device)\n",
    "    for epoch in range(num_epochs):\n",
    "        print('Epoch {}/{}'.format(epoch, num_epochs - 1))\n",
    "        print('-' * 10)\n",
    "        running_loss = 0.0\n",
    "        running_corrects = 0\n",
    "        model.train()\n",
    "        # Iterate over data.\n",
    "        for inputs, labels in train_loader:\n",
    "            if NN:\n",
    "              inputs = inputs.flatten(1,-1)\n",
    "            inputs = inputs.to(device)\n",
    "            labels = labels.to(device)\n",
    "            optimizer.zero_grad()\n",
    "\n",
    "            # forward\n",
    "            outputs = model(inputs.float())\n",
    "            loss = criterion(outputs, labels)\n",
    "\n",
    "            _, preds = torch.max(outputs, 1)\n",
    "\n",
    "            # backward\n",
    "            loss.backward()\n",
    "            optimizer.step()\n",
    "\n",
    "            # statistics\n",
    "            running_loss += loss.item() * inputs.size(0)\n",
    "            running_corrects += torch.sum(preds == labels.data)\n",
    "\n",
    "        epoch_loss = running_loss / len(train_loader.dataset)\n",
    "        epoch_acc = running_corrects.double() / len(train_loader.dataset)\n",
    "        \n",
    "        print('Loss: {:.4f} Acc: {:.4f} Lr: {:.8f}'.format(epoch_loss, epoch_acc, optimizer.param_groups[0]['lr']))\n",
    "        test_model(model, test_loader, criterion, device, scheduler, NN)\n",
    "\n",
    "        if epoch_acc > best_acc:\n",
    "            best_acc = epoch_acc\n",
    "\n",
    "        acc_history.append(epoch_acc.item())\n",
    "        loss_history.append(epoch_loss)\n",
    "\n",
    "    time_elapsed = time.time() - since\n",
    "    print('Training complete in {:.0f}m {:.0f}s'.format(time_elapsed // 60, time_elapsed % 60))\n",
    "    print('Best Acc: {:4f}'.format(best_acc))\n",
    "    return acc_history, loss_history\n",
    "def test_model(model, test_loader, criterion, device, scheduler, NN=False):\n",
    "  model.eval()\n",
    "  best_acc = 0.0\n",
    "  test_loss = 0.0\n",
    "  test_corrects = 0\n",
    "  for inputs, labels in test_loader:\n",
    "    if NN:\n",
    "      inputs = inputs.flatten(1,-1)\n",
    "    inputs = inputs.to(device)\n",
    "    labels = labels.to(device)\n",
    "    outputs = model(inputs.float())\n",
    "    _, preds = torch.max(outputs, 1)\n",
    "    loss = criterion(outputs, labels)\n",
    "    test_loss += loss.item() * inputs.size(0)\n",
    "    test_corrects += torch.sum(preds == labels.data)\n",
    "  epoch_acc = test_corrects.double() / len(test_loader.dataset)\n",
    "  scheduler.step(test_loss)\n",
    "  print('Test Acc: {:.4f}'.format(epoch_acc))\n",
    "\n",
    "  if epoch_acc > best_acc:\n",
    "      best_acc = epoch_acc\n",
    "      torch.save(model.state_dict(), './best_model_teacher.pt')\n"
   ]
  },
  {
   "cell_type": "code",
   "execution_count": 23,
   "id": "bfd5e22b",
   "metadata": {
    "execution": {
     "iopub.execute_input": "2022-10-14T14:24:27.502834Z",
     "iopub.status.busy": "2022-10-14T14:24:27.502503Z",
     "iopub.status.idle": "2022-10-14T14:50:39.863259Z",
     "shell.execute_reply": "2022-10-14T14:50:39.862016Z"
    },
    "papermill": {
     "duration": 1572.369633,
     "end_time": "2022-10-14T14:50:39.865569",
     "exception": false,
     "start_time": "2022-10-14T14:24:27.495936",
     "status": "completed"
    },
    "tags": []
   },
   "outputs": [
    {
     "name": "stdout",
     "output_type": "stream",
     "text": [
      "Epoch 0/24\n",
      "----------\n",
      "Loss: 0.7141 Acc: 0.7839 Lr: 0.00100000\n",
      "Test Acc: 0.8588\n",
      "Epoch 1/24\n",
      "----------\n",
      "Loss: 0.3712 Acc: 0.8813 Lr: 0.00100000\n",
      "Test Acc: 0.9059\n",
      "Epoch 2/24\n",
      "----------\n",
      "Loss: 0.2936 Acc: 0.9034 Lr: 0.00100000\n",
      "Test Acc: 0.9081\n",
      "Epoch 3/24\n",
      "----------\n",
      "Loss: 0.2419 Acc: 0.9189 Lr: 0.00100000\n",
      "Test Acc: 0.9242\n",
      "Epoch 4/24\n",
      "----------\n",
      "Loss: 0.2041 Acc: 0.9302 Lr: 0.00100000\n",
      "Test Acc: 0.9229\n",
      "Epoch 5/24\n",
      "----------\n",
      "Loss: 0.1738 Acc: 0.9397 Lr: 0.00100000\n",
      "Test Acc: 0.9301\n",
      "Epoch 6/24\n",
      "----------\n",
      "Loss: 0.1542 Acc: 0.9455 Lr: 0.00100000\n",
      "Test Acc: 0.9353\n",
      "Epoch 7/24\n",
      "----------\n",
      "Loss: 0.1319 Acc: 0.9528 Lr: 0.00100000\n",
      "Test Acc: 0.9344\n",
      "Epoch 8/24\n",
      "----------\n",
      "Loss: 0.1173 Acc: 0.9573 Lr: 0.00100000\n",
      "Test Acc: 0.9390\n",
      "Epoch 9/24\n",
      "----------\n",
      "Loss: 0.1044 Acc: 0.9621 Lr: 0.00100000\n",
      "Test Acc: 0.9408\n",
      "Epoch 10/24\n",
      "----------\n",
      "Loss: 0.0926 Acc: 0.9664 Lr: 0.00100000\n",
      "Test Acc: 0.9409\n",
      "Epoch 11/24\n",
      "----------\n",
      "Loss: 0.0822 Acc: 0.9695 Lr: 0.00100000\n",
      "Test Acc: 0.9430\n",
      "Epoch 12/24\n",
      "----------\n",
      "Loss: 0.0759 Acc: 0.9718 Lr: 0.00100000\n",
      "Test Acc: 0.9430\n",
      "Epoch 13/24\n",
      "----------\n",
      "Loss: 0.0679 Acc: 0.9750 Lr: 0.00100000\n",
      "Test Acc: 0.9429\n",
      "Epoch 14/24\n",
      "----------\n",
      "Loss: 0.0638 Acc: 0.9766 Lr: 0.00100000\n",
      "Test Acc: 0.9443\n",
      "Epoch 15/24\n",
      "----------\n",
      "Loss: 0.0574 Acc: 0.9787 Lr: 0.00100000\n",
      "Test Acc: 0.9459\n",
      "Epoch 16/24\n",
      "----------\n",
      "Loss: 0.0237 Acc: 0.9916 Lr: 0.00010000\n",
      "Test Acc: 0.9567\n",
      "Epoch 17/24\n",
      "----------\n",
      "Loss: 0.0130 Acc: 0.9956 Lr: 0.00010000\n",
      "Test Acc: 0.9573\n",
      "Epoch 18/24\n",
      "----------\n",
      "Loss: 0.0089 Acc: 0.9970 Lr: 0.00010000\n",
      "Test Acc: 0.9578\n",
      "Epoch 19/24\n",
      "----------\n",
      "Loss: 0.0065 Acc: 0.9979 Lr: 0.00010000\n",
      "Test Acc: 0.9583\n",
      "Epoch 20/24\n",
      "----------\n",
      "Loss: 0.0049 Acc: 0.9984 Lr: 0.00010000\n",
      "Test Acc: 0.9577\n",
      "Epoch 21/24\n",
      "----------\n",
      "Loss: 0.0040 Acc: 0.9988 Lr: 0.00010000\n",
      "Test Acc: 0.9580\n",
      "Epoch 22/24\n",
      "----------\n",
      "Loss: 0.0030 Acc: 0.9990 Lr: 0.00010000\n",
      "Test Acc: 0.9578\n",
      "Epoch 23/24\n",
      "----------\n",
      "Loss: 0.0019 Acc: 0.9996 Lr: 0.00001000\n",
      "Test Acc: 0.9582\n",
      "Epoch 24/24\n",
      "----------\n",
      "Loss: 0.0015 Acc: 0.9997 Lr: 0.00001000\n",
      "Test Acc: 0.9580\n",
      "Training complete in 26m 12s\n",
      "Best Acc: 0.999683\n"
     ]
    }
   ],
   "source": [
    "device = torch.device(\"cuda\" if torch.cuda.is_available() else \"cpu\")\n",
    "\n",
    "# Setup the loss function\n",
    "criterion = nn.CrossEntropyLoss()\n",
    "optimizer = optim.Adam(resnet18.parameters())\n",
    "scheduler = optim.lr_scheduler.ReduceLROnPlateau(optimizer, 'min',patience=5)\n",
    "# Train model\n",
    "train_acc_hist, train_loss_hist = train_model(resnet18, train_loader, test_loader, criterion, optimizer, device, scheduler)"
   ]
  }
 ],
 "metadata": {
  "kernelspec": {
   "display_name": "Python 3",
   "language": "python",
   "name": "python3"
  },
  "language_info": {
   "codemirror_mode": {
    "name": "ipython",
    "version": 3
   },
   "file_extension": ".py",
   "mimetype": "text/x-python",
   "name": "python",
   "nbconvert_exporter": "python",
   "pygments_lexer": "ipython3",
   "version": "3.7.12"
  },
  "papermill": {
   "default_parameters": {},
   "duration": 1607.676811,
   "end_time": "2022-10-14T14:50:41.300126",
   "environment_variables": {},
   "exception": null,
   "input_path": "__notebook__.ipynb",
   "output_path": "__notebook__.ipynb",
   "parameters": {},
   "start_time": "2022-10-14T14:23:53.623315",
   "version": "2.3.4"
  },
  "widgets": {
   "application/vnd.jupyter.widget-state+json": {
    "state": {
     "3841efe0d6c24d28b31e76232dd6713a": {
      "model_module": "@jupyter-widgets/base",
      "model_module_version": "1.2.0",
      "model_name": "LayoutModel",
      "state": {
       "_model_module": "@jupyter-widgets/base",
       "_model_module_version": "1.2.0",
       "_model_name": "LayoutModel",
       "_view_count": null,
       "_view_module": "@jupyter-widgets/base",
       "_view_module_version": "1.2.0",
       "_view_name": "LayoutView",
       "align_content": null,
       "align_items": null,
       "align_self": null,
       "border": null,
       "bottom": null,
       "display": null,
       "flex": null,
       "flex_flow": null,
       "grid_area": null,
       "grid_auto_columns": null,
       "grid_auto_flow": null,
       "grid_auto_rows": null,
       "grid_column": null,
       "grid_gap": null,
       "grid_row": null,
       "grid_template_areas": null,
       "grid_template_columns": null,
       "grid_template_rows": null,
       "height": null,
       "justify_content": null,
       "justify_items": null,
       "left": null,
       "margin": null,
       "max_height": null,
       "max_width": null,
       "min_height": null,
       "min_width": null,
       "object_fit": null,
       "object_position": null,
       "order": null,
       "overflow": null,
       "overflow_x": null,
       "overflow_y": null,
       "padding": null,
       "right": null,
       "top": null,
       "visibility": null,
       "width": null
      }
     },
     "391a9d74f6804b86aad000936441963a": {
      "model_module": "@jupyter-widgets/controls",
      "model_module_version": "1.5.0",
      "model_name": "HTMLModel",
      "state": {
       "_dom_classes": [],
       "_model_module": "@jupyter-widgets/controls",
       "_model_module_version": "1.5.0",
       "_model_name": "HTMLModel",
       "_view_count": null,
       "_view_module": "@jupyter-widgets/controls",
       "_view_module_version": "1.5.0",
       "_view_name": "HTMLView",
       "description": "",
       "description_tooltip": null,
       "layout": "IPY_MODEL_3841efe0d6c24d28b31e76232dd6713a",
       "placeholder": "​",
       "style": "IPY_MODEL_3e271e7930324f119fbb6c08a58ea541",
       "value": "100%"
      }
     },
     "3e271e7930324f119fbb6c08a58ea541": {
      "model_module": "@jupyter-widgets/controls",
      "model_module_version": "1.5.0",
      "model_name": "DescriptionStyleModel",
      "state": {
       "_model_module": "@jupyter-widgets/controls",
       "_model_module_version": "1.5.0",
       "_model_name": "DescriptionStyleModel",
       "_view_count": null,
       "_view_module": "@jupyter-widgets/base",
       "_view_module_version": "1.2.0",
       "_view_name": "StyleView",
       "description_width": ""
      }
     },
     "5f9ab99c08a143b090d929bb98310cf9": {
      "model_module": "@jupyter-widgets/base",
      "model_module_version": "1.2.0",
      "model_name": "LayoutModel",
      "state": {
       "_model_module": "@jupyter-widgets/base",
       "_model_module_version": "1.2.0",
       "_model_name": "LayoutModel",
       "_view_count": null,
       "_view_module": "@jupyter-widgets/base",
       "_view_module_version": "1.2.0",
       "_view_name": "LayoutView",
       "align_content": null,
       "align_items": null,
       "align_self": null,
       "border": null,
       "bottom": null,
       "display": null,
       "flex": null,
       "flex_flow": null,
       "grid_area": null,
       "grid_auto_columns": null,
       "grid_auto_flow": null,
       "grid_auto_rows": null,
       "grid_column": null,
       "grid_gap": null,
       "grid_row": null,
       "grid_template_areas": null,
       "grid_template_columns": null,
       "grid_template_rows": null,
       "height": null,
       "justify_content": null,
       "justify_items": null,
       "left": null,
       "margin": null,
       "max_height": null,
       "max_width": null,
       "min_height": null,
       "min_width": null,
       "object_fit": null,
       "object_position": null,
       "order": null,
       "overflow": null,
       "overflow_x": null,
       "overflow_y": null,
       "padding": null,
       "right": null,
       "top": null,
       "visibility": null,
       "width": null
      }
     },
     "602a65c7072449d49990ee2235a64cb6": {
      "model_module": "@jupyter-widgets/controls",
      "model_module_version": "1.5.0",
      "model_name": "DescriptionStyleModel",
      "state": {
       "_model_module": "@jupyter-widgets/controls",
       "_model_module_version": "1.5.0",
       "_model_name": "DescriptionStyleModel",
       "_view_count": null,
       "_view_module": "@jupyter-widgets/base",
       "_view_module_version": "1.2.0",
       "_view_name": "StyleView",
       "description_width": ""
      }
     },
     "62373ef4752e49c0b0a53874781cea32": {
      "model_module": "@jupyter-widgets/controls",
      "model_module_version": "1.5.0",
      "model_name": "FloatProgressModel",
      "state": {
       "_dom_classes": [],
       "_model_module": "@jupyter-widgets/controls",
       "_model_module_version": "1.5.0",
       "_model_name": "FloatProgressModel",
       "_view_count": null,
       "_view_module": "@jupyter-widgets/controls",
       "_view_module_version": "1.5.0",
       "_view_name": "ProgressView",
       "bar_style": "success",
       "description": "",
       "description_tooltip": null,
       "layout": "IPY_MODEL_5f9ab99c08a143b090d929bb98310cf9",
       "max": 46830571.0,
       "min": 0.0,
       "orientation": "horizontal",
       "style": "IPY_MODEL_fba1e31d9ee44fecaf0b45a8a57858b3",
       "value": 46830571.0
      }
     },
     "651f152a6b944aa2af1822bf1c2a3ff4": {
      "model_module": "@jupyter-widgets/controls",
      "model_module_version": "1.5.0",
      "model_name": "HBoxModel",
      "state": {
       "_dom_classes": [],
       "_model_module": "@jupyter-widgets/controls",
       "_model_module_version": "1.5.0",
       "_model_name": "HBoxModel",
       "_view_count": null,
       "_view_module": "@jupyter-widgets/controls",
       "_view_module_version": "1.5.0",
       "_view_name": "HBoxView",
       "box_style": "",
       "children": [
        "IPY_MODEL_391a9d74f6804b86aad000936441963a",
        "IPY_MODEL_62373ef4752e49c0b0a53874781cea32",
        "IPY_MODEL_b7479a6a963142d192d46b1ce9ae35bd"
       ],
       "layout": "IPY_MODEL_9e97d1fa10874759bf8dde40a8c0da75"
      }
     },
     "9e97d1fa10874759bf8dde40a8c0da75": {
      "model_module": "@jupyter-widgets/base",
      "model_module_version": "1.2.0",
      "model_name": "LayoutModel",
      "state": {
       "_model_module": "@jupyter-widgets/base",
       "_model_module_version": "1.2.0",
       "_model_name": "LayoutModel",
       "_view_count": null,
       "_view_module": "@jupyter-widgets/base",
       "_view_module_version": "1.2.0",
       "_view_name": "LayoutView",
       "align_content": null,
       "align_items": null,
       "align_self": null,
       "border": null,
       "bottom": null,
       "display": null,
       "flex": null,
       "flex_flow": null,
       "grid_area": null,
       "grid_auto_columns": null,
       "grid_auto_flow": null,
       "grid_auto_rows": null,
       "grid_column": null,
       "grid_gap": null,
       "grid_row": null,
       "grid_template_areas": null,
       "grid_template_columns": null,
       "grid_template_rows": null,
       "height": null,
       "justify_content": null,
       "justify_items": null,
       "left": null,
       "margin": null,
       "max_height": null,
       "max_width": null,
       "min_height": null,
       "min_width": null,
       "object_fit": null,
       "object_position": null,
       "order": null,
       "overflow": null,
       "overflow_x": null,
       "overflow_y": null,
       "padding": null,
       "right": null,
       "top": null,
       "visibility": null,
       "width": null
      }
     },
     "a57210117a2646878f4a5b54bd1ad666": {
      "model_module": "@jupyter-widgets/base",
      "model_module_version": "1.2.0",
      "model_name": "LayoutModel",
      "state": {
       "_model_module": "@jupyter-widgets/base",
       "_model_module_version": "1.2.0",
       "_model_name": "LayoutModel",
       "_view_count": null,
       "_view_module": "@jupyter-widgets/base",
       "_view_module_version": "1.2.0",
       "_view_name": "LayoutView",
       "align_content": null,
       "align_items": null,
       "align_self": null,
       "border": null,
       "bottom": null,
       "display": null,
       "flex": null,
       "flex_flow": null,
       "grid_area": null,
       "grid_auto_columns": null,
       "grid_auto_flow": null,
       "grid_auto_rows": null,
       "grid_column": null,
       "grid_gap": null,
       "grid_row": null,
       "grid_template_areas": null,
       "grid_template_columns": null,
       "grid_template_rows": null,
       "height": null,
       "justify_content": null,
       "justify_items": null,
       "left": null,
       "margin": null,
       "max_height": null,
       "max_width": null,
       "min_height": null,
       "min_width": null,
       "object_fit": null,
       "object_position": null,
       "order": null,
       "overflow": null,
       "overflow_x": null,
       "overflow_y": null,
       "padding": null,
       "right": null,
       "top": null,
       "visibility": null,
       "width": null
      }
     },
     "b7479a6a963142d192d46b1ce9ae35bd": {
      "model_module": "@jupyter-widgets/controls",
      "model_module_version": "1.5.0",
      "model_name": "HTMLModel",
      "state": {
       "_dom_classes": [],
       "_model_module": "@jupyter-widgets/controls",
       "_model_module_version": "1.5.0",
       "_model_name": "HTMLModel",
       "_view_count": null,
       "_view_module": "@jupyter-widgets/controls",
       "_view_module_version": "1.5.0",
       "_view_name": "HTMLView",
       "description": "",
       "description_tooltip": null,
       "layout": "IPY_MODEL_a57210117a2646878f4a5b54bd1ad666",
       "placeholder": "​",
       "style": "IPY_MODEL_602a65c7072449d49990ee2235a64cb6",
       "value": " 44.7M/44.7M [00:02&lt;00:00, 30.8MB/s]"
      }
     },
     "fba1e31d9ee44fecaf0b45a8a57858b3": {
      "model_module": "@jupyter-widgets/controls",
      "model_module_version": "1.5.0",
      "model_name": "ProgressStyleModel",
      "state": {
       "_model_module": "@jupyter-widgets/controls",
       "_model_module_version": "1.5.0",
       "_model_name": "ProgressStyleModel",
       "_view_count": null,
       "_view_module": "@jupyter-widgets/base",
       "_view_module_version": "1.2.0",
       "_view_name": "StyleView",
       "bar_color": null,
       "description_width": ""
      }
     }
    },
    "version_major": 2,
    "version_minor": 0
   }
  }
 },
 "nbformat": 4,
 "nbformat_minor": 5
}
